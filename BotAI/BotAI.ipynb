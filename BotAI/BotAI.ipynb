{
  "nbformat": 4,
  "nbformat_minor": 0,
  "metadata": {
    "colab": {
      "provenance": []
    },
    "kernelspec": {
      "name": "python3",
      "display_name": "Python 3"
    },
    "language_info": {
      "name": "python"
    }
  },
  "cells": [
    {
      "cell_type": "markdown",
      "source": [
        "# **BotAI: Building a Chatbot with NLTK**\n",
        "## **Introduction**\n",
        "I've created a chatbot in Python using the NLTK library, capable of responding to user queries, answering frequently asked questions, scheduling appointments, canceling appointments, and showing all appointments.\n",
        "\n",
        "## **What is NLTK?**\n",
        "NLTK, which stands for Natural Language Toolkit, is a comprehensive suite of libraries and programs for symbolic and statistical natural language processing (NLP) for English. It's written in the Python programming language and provides various tools for text processing, classification, tokenization, stemming, tagging, parsing, and semantic reasoning."
      ],
      "metadata": {
        "id": "xC8siGnT2RgO"
      }
    },
    {
      "cell_type": "markdown",
      "source": [
        "# **Code With Explanation:**"
      ],
      "metadata": {
        "id": "f7Zm7N-O4f5-"
      }
    },
    {
      "cell_type": "markdown",
      "source": [
        "## **Importing Libraries**\n",
        "*   In this section, i'm importing necessary libraries and downloading NLTK data."
      ],
      "metadata": {
        "id": "a-OmmsZT4mch"
      }
    },
    {
      "cell_type": "code",
      "source": [
        "import nltk\n",
        "import random\n",
        "from nltk.chat.util import Chat, reflections\n",
        "from datetime import datetime\n",
        "\n",
        "nltk.download('punkt')"
      ],
      "metadata": {
        "colab": {
          "base_uri": "https://localhost:8080/"
        },
        "id": "do-uW-H_4xJ1",
        "outputId": "13ecfbcf-272b-45e6-c5c2-c32ed1344db4"
      },
      "execution_count": 10,
      "outputs": [
        {
          "output_type": "stream",
          "name": "stderr",
          "text": [
            "[nltk_data] Downloading package punkt to /root/nltk_data...\n",
            "[nltk_data]   Package punkt is already up-to-date!\n"
          ]
        },
        {
          "output_type": "execute_result",
          "data": {
            "text/plain": [
              "True"
            ]
          },
          "metadata": {},
          "execution_count": 10
        }
      ]
    },
    {
      "cell_type": "markdown",
      "source": [
        "## **BotAI Class**\n",
        "In following cell I'm defining the BotAI class, which encapsulates all the functionalities of my chatbot.\n",
        "\n",
        "\n",
        "*   **BotAI class** encapsulates all functionalities of the chatbot.\n",
        "*   **__ init__** method initializes the chatbot with attributes:\n",
        "*   **appointments:** dictionary to store appointments.\n",
        "*   **responses:** dictionary containing patterns and corresponding responses.\n",
        "*   **greetings:** list of greeting responses.\n",
        "*   **start_conversation:** list of responses to start a conversation."
      ],
      "metadata": {
        "id": "RM60mBdW4zwA"
      }
    },
    {
      "cell_type": "code",
      "source": [
        "class BotAI:\n",
        "    def __init__(self):\n",
        "        self.appointments = {}\n",
        "        self.responses = {\n",
        "            \"greet\": [\"Hello!\", \"Hi there!\", \"Hey!\", \"Greetings!\"],\n",
        "            \"thanks\": [\"You're welcome!\", \"No problem!\", \"My pleasure!\", \"Anytime!\"],\n",
        "            \"start\": [\"How can I assist you today?\", \"What can I do for you?\", \"How can I help?\", \"What do you need help with?\"],\n",
        "            \"about_me\": [\n",
        "                \"I'm BotAI, your personal assistant.\",\n",
        "                \"I'm BotAI, I'm here to help you with your tasks and answer your questions.\",\n",
        "                \"I'm BotAI, I'm a chatbot designed to assist you with various tasks and provide information.\",\n",
        "                \"I'm BotAI, I'm an AI designed to make your life easier by helping you with tasks and answering questions.\"\n",
        "            ],\n",
        "            \"what is your name?\": \"I'm BotAI, your personal assistant.\",\n",
        "            \".*schedule.*\": self.handle_appointment,\n",
        "            \".*time.*\\?\": self.get_time_chat,\n",
        "            \".*cancel.*appointment.*\": self.cancel_appointment,\n",
        "            \".*show.*appointment.*\": self.show_appointments,\n",
        "            \".*\": \"I'm sorry, I didn't understand that.\"\n",
        "        }\n",
        "        self.greetings = [\"Hello!\", \"Hi there!\", \"Hey!\", \"Greetings!\"]\n",
        "        self.start_conversation = [\"How can I assist you today?\", \"What can I do for you?\", \"How can I help?\", \"What do you need help with?\"]\n"
      ],
      "metadata": {
        "id": "LnOR1wfr5FrW"
      },
      "execution_count": 11,
      "outputs": []
    },
    {
      "cell_type": "markdown",
      "source": [
        "## **Respond Method**\n",
        "*   **respond** method handles user queries and returns appropriate responses.\n",
        "*   It checks patterns in responses dictionary and responds accordingly.\n",
        "*   If the pattern matches, it returns a response.\n",
        "*   It handles greetings, thanks, starting conversation, asking about the bot, scheduling appointments, canceling appointments, showing appointments, and asking for the time."
      ],
      "metadata": {
        "id": "sFyRPNc673Hi"
      }
    },
    {
      "cell_type": "code",
      "source": [
        "\n",
        "    def respond(self, query):\n",
        "        query = query.strip()  # Remove leading and trailing spaces\n",
        "        for pattern, response in self.responses.items():\n",
        "            if pattern == \"greet\" and query.lower() in [\"hi\", \"hello\", \"hey\", \"greetings\"]:\n",
        "                return random.choice(response)\n",
        "            elif pattern == \"thanks\" and query.lower() in [\"thanks\", \"thank you\"]:\n",
        "                return random.choice(response)\n",
        "            elif pattern == \"start\" and query.lower() in [\"start\", \"begin\", \"hey botai\"]:\n",
        "                return random.choice(response)\n",
        "            elif pattern == \"about_me\" and any(word in nltk.word_tokenize(query) for word in [\"who\", \"what\", \"tell me about\", \"yourself\"]):\n",
        "                return random.choice(response)\n",
        "            elif isinstance(pattern, str) and pattern == query:\n",
        "                if callable(response):\n",
        "                    return response()\n",
        "                else:\n",
        "                    return response\n",
        "            elif isinstance(pattern, tuple):\n",
        "                match = nltk.chat.util.find_pats(pattern, query)\n",
        "                if match:\n",
        "                    if callable(response):\n",
        "                        return response(*match)\n",
        "                    else:\n",
        "                        return response\n",
        "            elif \"show\" in nltk.word_tokenize(query) and \"appointment\" in nltk.word_tokenize(query):\n",
        "                return self.show_appointments(query)\n",
        "            elif \"cancel\" in nltk.word_tokenize(query) and \"appointment\" in nltk.word_tokenize(query):\n",
        "                return self.cancel_appointment(query)\n",
        "            elif \"schedule\" in nltk.word_tokenize(query) or \"appointment\" in nltk.word_tokenize(query):\n",
        "                return self.handle_appointment(query)\n",
        "            elif \"time\" in nltk.word_tokenize(query) and \"?\" in query:\n",
        "                return self.get_time_chat()\n",
        "\n",
        "        return \"I'm sorry, I didn't understand that.\"\n"
      ],
      "metadata": {
        "id": "KTQy1A-25Nqc"
      },
      "execution_count": 12,
      "outputs": []
    },
    {
      "cell_type": "markdown",
      "source": [
        "## **Get_Time Method**\n",
        "*   **get_time** method retrieves the current time and returns it in HH:MM:SS format."
      ],
      "metadata": {
        "id": "2mSCcWil8huk"
      }
    },
    {
      "cell_type": "code",
      "source": [
        "    def get_time(self):\n",
        "        now = datetime.now()\n",
        "        return now.strftime(\"%H:%M:%S\")\n"
      ],
      "metadata": {
        "id": "RwoThkoH8t3b"
      },
      "execution_count": 13,
      "outputs": []
    },
    {
      "cell_type": "markdown",
      "source": [
        "## **Get_Time_Chat Method**\n",
        "*  **get_time_chat** method retrieves the current time and returns it in a chat-like sentence format, including AM/PM notation."
      ],
      "metadata": {
        "id": "snIRf9rz80Cm"
      }
    },
    {
      "cell_type": "code",
      "source": [
        "    def get_time_chat(self):\n",
        "        now = datetime.now()\n",
        "        hour = now.strftime(\"%I\")\n",
        "        minute = now.strftime(\"%M\")\n",
        "        am_pm = now.strftime(\"%p\")\n",
        "        return f\"It's {hour}:{minute} {am_pm}.\""
      ],
      "metadata": {
        "id": "V6Lx-dQU9Ca9"
      },
      "execution_count": 14,
      "outputs": []
    },
    {
      "cell_type": "markdown",
      "source": [
        "## **Handle_Appointment Method**\n",
        "*   **handle_appointment** method handles scheduling appointments.\n",
        "*   It prompts the user for the subject, time, and date of the appointment, stores it in the appointments dictionary, and returns a confirmation message.\n",
        "\n"
      ],
      "metadata": {
        "id": "GO5nfNtL9FYI"
      }
    },
    {
      "cell_type": "code",
      "source": [
        "    def handle_appointment(self, query):\n",
        "        subject = input(\"BotAI: What is the subject of the appointment? \")\n",
        "        time = input(\"BotAI: When is the appointment? (e.g., 9:00 AM) \")\n",
        "        date = input(\"BotAI: What is the date of the appointment? (e.g., May 5th) \")\n",
        "        self.appointments[subject] = (time, date)\n",
        "        return f\"Your appointment for {subject} is scheduled for {time} on {date}.\""
      ],
      "metadata": {
        "id": "MPwEMVKZ9Z8T"
      },
      "execution_count": 15,
      "outputs": []
    },
    {
      "cell_type": "markdown",
      "source": [
        "## **Cancel_Appointment Method**\n",
        "*   **cancel_appointment** method cancels a scheduled appointment.\n",
        "*   It prompts the user for the subject of the appointment, checks if it exists in appointments dictionary, deletes it if found, and returns a cancellation message."
      ],
      "metadata": {
        "id": "y42Ovaoh9dWL"
      }
    },
    {
      "cell_type": "code",
      "source": [
        "    def cancel_appointment(self, query):\n",
        "        subject = input(\"BotAI: What is the subject of the appointment you want to cancel? \")\n",
        "        if subject in self.appointments:\n",
        "            del self.appointments[subject]\n",
        "            return f\"Appointment for {subject} cancelled.\"\n",
        "        else:\n",
        "            return f\"No appointment found for {subject}.\""
      ],
      "metadata": {
        "id": "vfCQcn2a-Qiy"
      },
      "execution_count": 16,
      "outputs": []
    },
    {
      "cell_type": "markdown",
      "source": [
        "## **Show_Appointment Method**\n",
        "*   **show_appointments** method displays all scheduled appointments.\n",
        "*   It checks if there are any appointments stored in the appointments dictionary, constructs a list of appointments with subject, time, and date, and returns them as a formatted string. If no appointments exist, it returns a message indicating that there are no appointments scheduled.\n",
        "\n"
      ],
      "metadata": {
        "id": "CxS88fyn-UBX"
      }
    },
    {
      "cell_type": "code",
      "source": [
        "    def show_appointments(self, query):\n",
        "        if self.appointments:\n",
        "            appointments_list = \"\\n\".join([f\"{subject}: {time} on {date}\" for subject, (time, date) in self.appointments.items()])\n",
        "            return f\"Your scheduled appointments are:\\n{appointments_list}\"\n",
        "        else:\n",
        "            return \"You don't have any scheduled appointments.\""
      ],
      "metadata": {
        "id": "Np7o-B0w-mlT"
      },
      "execution_count": 17,
      "outputs": []
    },
    {
      "cell_type": "markdown",
      "source": [
        "## **Main Method**\n",
        "*   **main function** is the entry point of the program.\n",
        "*   It creates an instance of BotAI class and initiates a conversation loop.\n",
        "*   It prompts the user for input, processes it, and prints the bot's response.\n",
        "*   The conversation continues until the user types 'bye' to end the program."
      ],
      "metadata": {
        "id": "xwiZHFt5-q_2"
      }
    },
    {
      "cell_type": "code",
      "source": [
        "def main():\n",
        "    bot = BotAI()\n",
        "    print(\"BotAI:\", random.choice(bot.greetings))\n",
        "    print(\"BotAI:\", random.choice(bot.start_conversation))\n",
        "\n",
        "    while True:\n",
        "        user_input = input(\"You: \").lower().strip()  # Remove leading and trailing spaces\n",
        "        if user_input == 'bye':\n",
        "            print(\"BotAI: Goodbye!\")\n",
        "            break\n",
        "        if user_input in [\"hi\", \"hello\", \"hey\", \"greetings\"]:\n",
        "            print(\"BotAI:\", random.choice(bot.greetings))\n",
        "            print(\"BotAI:\", random.choice(bot.start_conversation))\n",
        "            continue\n",
        "        response = bot.respond(user_input)\n",
        "        if response is not None:\n",
        "            print(\"BotAI:\", response)\n",
        "\n",
        "if __name__ == \"__main__\":\n",
        "    main()\n"
      ],
      "metadata": {
        "id": "fdVadbaC_kQi"
      },
      "execution_count": null,
      "outputs": []
    },
    {
      "cell_type": "markdown",
      "source": [
        "# **Complete Code:**"
      ],
      "metadata": {
        "id": "a3Rkp2hg_obN"
      }
    },
    {
      "cell_type": "code",
      "source": [
        "\n",
        "\n",
        "\n",
        "import nltk\n",
        "import random\n",
        "from nltk.chat.util import Chat, reflections\n",
        "from datetime import datetime\n",
        "\n",
        "nltk.download('punkt')\n",
        "\n",
        "class BotAI:\n",
        "    def __init__(self):\n",
        "        self.appointments = {}\n",
        "        self.responses = {\n",
        "            \"greet\": [\"Hello!\", \"Hi there!\", \"Hey!\", \"Greetings!\"],\n",
        "            \"thanks\": [\"You're welcome!\", \"No problem!\", \"My pleasure!\", \"Anytime!\"],\n",
        "            \"start\": [\"How can I assist you today?\", \"What can I do for you?\", \"How can I help?\", \"What do you need help with?\"],\n",
        "            \"about_me\": [\n",
        "                \"I'm BotAI, your personal assistant.\",\n",
        "                \"I'm BotAI, I'm here to help you with your tasks and answer your questions.\",\n",
        "                \"I'm BotAI, I'm a chatbot designed to assist you with various tasks and provide information.\",\n",
        "                \"I'm BotAI, I'm an AI designed to make your life easier by helping you with tasks and answering questions.\"\n",
        "            ],\n",
        "            \"what is your name?\": \"I'm BotAI, your personal assistant.\",\n",
        "            \".*schedule.*\": self.handle_appointment,\n",
        "            \".*time.*\\?\": self.get_time_chat,\n",
        "            \".*cancel.*appointment.*\": self.cancel_appointment,\n",
        "            \".*show.*appointment.*\": self.show_appointments,\n",
        "            \".*\": \"I'm sorry, I didn't understand that.\"\n",
        "        }\n",
        "        self.greetings = [\"Hello!\", \"Hi there!\", \"Hey!\", \"Greetings!\"]\n",
        "        self.start_conversation = [\"How can I assist you today?\", \"What can I do for you?\", \"How can I help?\", \"What do you need help with?\"]\n",
        "\n",
        "    def respond(self, query):\n",
        "        query = query.strip()  # Remove leading and trailing spaces\n",
        "        for pattern, response in self.responses.items():\n",
        "            if pattern == \"greet\" and query.lower() in [\"hi\", \"hello\", \"hey\", \"greetings\"]:\n",
        "                return random.choice(response)\n",
        "            elif pattern == \"thanks\" and query.lower() in [\"thanks\", \"thank you\"]:\n",
        "                return random.choice(response)\n",
        "            elif pattern == \"start\" and query.lower() in [\"start\", \"begin\", \"hey botai\"]:\n",
        "                return random.choice(response)\n",
        "            elif pattern == \"about_me\" and any(word in nltk.word_tokenize(query) for word in [\"who\", \"what\", \"tell me about\", \"yourself\"]):\n",
        "                return random.choice(response)\n",
        "            elif isinstance(pattern, str) and pattern == query:\n",
        "                if callable(response):\n",
        "                    return response()\n",
        "                else:\n",
        "                    return response\n",
        "            elif isinstance(pattern, tuple):\n",
        "                match = nltk.chat.util.find_pats(pattern, query)\n",
        "                if match:\n",
        "                    if callable(response):\n",
        "                        return response(*match)\n",
        "                    else:\n",
        "                        return response\n",
        "            elif \"show\" in nltk.word_tokenize(query) and \"appointment\" in nltk.word_tokenize(query):\n",
        "                return self.show_appointments(query)\n",
        "            elif \"cancel\" in nltk.word_tokenize(query) and \"appointment\" in nltk.word_tokenize(query):\n",
        "                return self.cancel_appointment(query)\n",
        "            elif \"schedule\" in nltk.word_tokenize(query) or \"appointment\" in nltk.word_tokenize(query):\n",
        "                return self.handle_appointment(query)\n",
        "            elif \"time\" in nltk.word_tokenize(query) and \"?\" in query:\n",
        "                return self.get_time_chat()\n",
        "\n",
        "        return \"I'm sorry, I didn't understand that.\"\n",
        "\n",
        "    def get_time(self):\n",
        "        now = datetime.now()\n",
        "        return now.strftime(\"%H:%M:%S\")\n",
        "\n",
        "    def get_time_chat(self):\n",
        "        now = datetime.now()\n",
        "        hour = now.strftime(\"%I\")\n",
        "        minute = now.strftime(\"%M\")\n",
        "        am_pm = now.strftime(\"%p\")\n",
        "        return f\"It's {hour}:{minute} {am_pm}.\"\n",
        "\n",
        "    def handle_appointment(self, query):\n",
        "        subject = input(\"BotAI: What is the subject of the appointment? \")\n",
        "        time = input(\"BotAI: When is the appointment? (e.g., 9:00 AM) \")\n",
        "        date = input(\"BotAI: What is the date of the appointment? (e.g., May 5th) \")\n",
        "        self.appointments[subject] = (time, date)\n",
        "        return f\"Your appointment for {subject} is scheduled for {time} on {date}.\"\n",
        "\n",
        "    def cancel_appointment(self, query):\n",
        "        subject = input(\"BotAI: What is the subject of the appointment you want to cancel? \")\n",
        "        if subject in self.appointments:\n",
        "            del self.appointments[subject]\n",
        "            return f\"Appointment for {subject} cancelled.\"\n",
        "        else:\n",
        "            return f\"No appointment found for {subject}.\"\n",
        "\n",
        "    def show_appointments(self, query):\n",
        "        if self.appointments:\n",
        "            appointments_list = \"\\n\".join([f\"{subject}: {time} on {date}\" for subject, (time, date) in self.appointments.items()])\n",
        "            return f\"Your scheduled appointments are:\\n{appointments_list}\"\n",
        "        else:\n",
        "            return \"You don't have any scheduled appointments.\"\n",
        "\n",
        "def main():\n",
        "    bot = BotAI()\n",
        "    print(\"BotAI:\", random.choice(bot.greetings))\n",
        "    print(\"BotAI:\", random.choice(bot.start_conversation))\n",
        "\n",
        "    while True:\n",
        "        user_input = input(\"You: \").lower().strip()  # Remove leading and trailing spaces\n",
        "        if user_input == 'bye':\n",
        "            print(\"BotAI: Goodbye!\")\n",
        "            break\n",
        "        if user_input in [\"hi\", \"hello\", \"hey\", \"greetings\"]:\n",
        "            print(\"BotAI:\", random.choice(bot.greetings))\n",
        "            print(\"BotAI:\", random.choice(bot.start_conversation))\n",
        "            continue\n",
        "        response = bot.respond(user_input)\n",
        "        if response is not None:\n",
        "            print(\"BotAI:\", response)\n",
        "\n",
        "if __name__ == \"__main__\":\n",
        "    main()\n"
      ],
      "metadata": {
        "colab": {
          "base_uri": "https://localhost:8080/"
        },
        "id": "3uwXPwwH_14e",
        "outputId": "7d61ec61-2019-47f8-c7ce-8fff68571803"
      },
      "execution_count": 20,
      "outputs": [
        {
          "output_type": "stream",
          "name": "stderr",
          "text": [
            "[nltk_data] Downloading package punkt to /root/nltk_data...\n",
            "[nltk_data]   Package punkt is already up-to-date!\n"
          ]
        },
        {
          "output_type": "stream",
          "name": "stdout",
          "text": [
            "BotAI: Hello!\n",
            "BotAI: How can I assist you today?\n",
            "You: hello\n",
            "BotAI: Hello!\n",
            "BotAI: How can I help?\n",
            "You: what is your name?\n",
            "BotAI: I'm BotAI, I'm an AI designed to make your life easier by helping you with tasks and answering questions.\n",
            "You: can you please tell me what is time right now ?\n",
            "BotAI: It's 07:08 PM.\n",
            "You: thanks\n",
            "BotAI: My pleasure!\n",
            "You: now please help me to schedule some of my appointments.\n",
            "BotAI: What is the subject of the appointment? doctor's appointment\n",
            "BotAI: When is the appointment? (e.g., 9:00 AM) 10:00 AM\n",
            "BotAI: What is the date of the appointment? (e.g., May 5th) May 7th\n",
            "BotAI: Your appointment for doctor's appointment is scheduled for 10:00 AM on May 7th.\n",
            "You: now i want to schedule another appointment\n",
            "BotAI: What is the subject of the appointment? business meeting\n",
            "BotAI: When is the appointment? (e.g., 9:00 AM) 12:00 PM\n",
            "BotAI: What is the date of the appointment? (e.g., May 5th) May 10th\n",
            "BotAI: Your appointment for business meeting is scheduled for 12:00 PM on May 10th.\n",
            "You: can show me all of my scheduled appointment\n",
            "BotAI: Your scheduled appointments are:\n",
            "doctor's appointment: 10:00 AM on May 7th\n",
            "business meeting: 12:00 PM on May 10th\n",
            "You: i want to cancel one of these appointment\n",
            "BotAI: What is the subject of the appointment you want to cancel? business meeting\n",
            "BotAI: Appointment for business meeting cancelled.\n",
            "You: now show me my appointment\n",
            "BotAI: Your scheduled appointments are:\n",
            "doctor's appointment: 10:00 AM on May 7th\n",
            "You: thanks\n",
            "BotAI: You're welcome!\n",
            "You: bye\n",
            "BotAI: Goodbye!\n"
          ]
        }
      ]
    }
  ]
}